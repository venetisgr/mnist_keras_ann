{
  "nbformat": 4,
  "nbformat_minor": 0,
  "metadata": {
    "colab": {
      "name": "Mnist_Ann_Keras.ipynb",
      "version": "0.3.2",
      "provenance": [],
      "include_colab_link": true
    },
    "kernelspec": {
      "name": "python3",
      "display_name": "Python 3"
    },
    "accelerator": "GPU"
  },
  "cells": [
    {
      "cell_type": "markdown",
      "metadata": {
        "id": "view-in-github",
        "colab_type": "text"
      },
      "source": [
        "<a href=\"https://colab.research.google.com/github/venetisgr/mnist_keras_ann/blob/master/Mnist_Ann_Keras.ipynb\" target=\"_parent\"><img src=\"https://colab.research.google.com/assets/colab-badge.svg\" alt=\"Open In Colab\"/></a>"
      ]
    },
    {
      "metadata": {
        "id": "0k-763SbLqF4",
        "colab_type": "text"
      },
      "cell_type": "markdown",
      "source": [
        "**Keras and Libraries import**\n"
      ]
    },
    {
      "metadata": {
        "id": "qN7R-4q0LpRl",
        "colab_type": "code",
        "colab": {
          "base_uri": "https://localhost:8080/",
          "height": 34
        },
        "outputId": "aa7fa308-ae2a-4966-8bf6-051dd65d5dfe"
      },
      "cell_type": "code",
      "source": [
        "import keras\n",
        "\n",
        "from keras.models import Sequential\n",
        "from keras.layers import Dense\n",
        "from keras.utils import to_categorical\n",
        "\n",
        "import matplotlib.pyplot as plt\n",
        "import pandas as pd\n",
        "from scipy.io import loadmat"
      ],
      "execution_count": 1,
      "outputs": [
        {
          "output_type": "stream",
          "text": [
            "Using TensorFlow backend.\n"
          ],
          "name": "stderr"
        }
      ]
    },
    {
      "metadata": {
        "id": "W34dh4cxLyxd",
        "colab_type": "code",
        "colab": {}
      },
      "cell_type": "code",
      "source": [
        "# import the data\n",
        "from keras.datasets import mnist\n",
        "\n",
        "# read the data\n",
        "(X_train, y_train), (X_test, y_test) = mnist.load_data()"
      ],
      "execution_count": 0,
      "outputs": []
    },
    {
      "metadata": {
        "id": "d9V7SFyHOxbe",
        "colab_type": "code",
        "colab": {}
      },
      "cell_type": "code",
      "source": [
        "# flatten images into one-dimensional vector\n",
        "#print(X_train.shape[2])\n",
        "#X_train.shape\n",
        "\n",
        "num_pixels = X_train.shape[1] * X_train.shape[2] # find size of one-dimensional vector\n",
        "\n",
        "X_train = X_train.reshape(X_train.shape[0], num_pixels).astype('float32') # flatten training images\n",
        "X_test = X_test.reshape(X_test.shape[0], num_pixels).astype('float32') # flatten test images"
      ],
      "execution_count": 0,
      "outputs": []
    },
    {
      "metadata": {
        "id": "Rec1gicdOxeW",
        "colab_type": "code",
        "colab": {}
      },
      "cell_type": "code",
      "source": [
        "# normalize inputs from 0-255 to 0-1\n",
        "X_train = X_train / 255\n",
        "X_test = X_test / 255"
      ],
      "execution_count": 0,
      "outputs": []
    },
    {
      "metadata": {
        "id": "C4QywdMMQF7A",
        "colab_type": "code",
        "colab": {}
      },
      "cell_type": "code",
      "source": [
        "# one hot encode outputs\n",
        "y_train = to_categorical(y_train)\n",
        "y_test = to_categorical(y_test)\n",
        "\n",
        "num_classes = y_test.shape[1]\n",
        "#print(num_classes)"
      ],
      "execution_count": 0,
      "outputs": []
    },
    {
      "metadata": {
        "id": "QFqkuM8bRWsM",
        "colab_type": "code",
        "colab": {}
      },
      "cell_type": "code",
      "source": [
        "# define the layers and the optimizer\n",
        "def classification_model():\n",
        "    # create model\n",
        "    model = Sequential()\n",
        "    model.add(Dense(num_pixels, activation='relu', input_shape=(num_pixels,)))\n",
        "    model.add(Dense(100, activation='relu'))\n",
        "    model.add(Dense(num_classes, activation='softmax'))\n",
        "    \n",
        "    \n",
        "    # compile model\n",
        "    model.compile(optimizer='adam', loss='categorical_crossentropy', metrics=['accuracy'])\n",
        "    return model"
      ],
      "execution_count": 0,
      "outputs": []
    },
    {
      "metadata": {
        "id": "jJOciDBsVuQx",
        "colab_type": "code",
        "colab": {
          "base_uri": "https://localhost:8080/",
          "height": 374
        },
        "outputId": "e29b022b-55b1-417c-d7af-3bfb24b1b52c"
      },
      "cell_type": "code",
      "source": [
        "# Model creation\n",
        "model = classification_model()\n",
        "\n",
        "# Training and evaluation of the model\n",
        "model.fit(X_train, y_train, validation_data=(X_test, y_test), epochs=10, verbose=2)\n",
        "\n",
        "scores = model.evaluate(X_test, y_test, verbose=0)"
      ],
      "execution_count": 7,
      "outputs": [
        {
          "output_type": "stream",
          "text": [
            "Train on 60000 samples, validate on 10000 samples\n",
            "Epoch 1/10\n",
            " - 12s - loss: 0.1879 - acc: 0.9434 - val_loss: 0.0914 - val_acc: 0.9732\n",
            "Epoch 2/10\n",
            " - 10s - loss: 0.0783 - acc: 0.9753 - val_loss: 0.0848 - val_acc: 0.9743\n",
            "Epoch 3/10\n",
            " - 10s - loss: 0.0530 - acc: 0.9835 - val_loss: 0.0675 - val_acc: 0.9809\n",
            "Epoch 4/10\n",
            " - 10s - loss: 0.0402 - acc: 0.9866 - val_loss: 0.0740 - val_acc: 0.9788\n",
            "Epoch 5/10\n",
            " - 10s - loss: 0.0310 - acc: 0.9899 - val_loss: 0.0950 - val_acc: 0.9751\n",
            "Epoch 6/10\n",
            " - 10s - loss: 0.0256 - acc: 0.9915 - val_loss: 0.0825 - val_acc: 0.9800\n",
            "Epoch 7/10\n",
            " - 10s - loss: 0.0224 - acc: 0.9929 - val_loss: 0.0805 - val_acc: 0.9809\n",
            "Epoch 8/10\n",
            " - 10s - loss: 0.0195 - acc: 0.9938 - val_loss: 0.0758 - val_acc: 0.9825\n",
            "Epoch 9/10\n",
            " - 10s - loss: 0.0192 - acc: 0.9939 - val_loss: 0.0847 - val_acc: 0.9820\n",
            "Epoch 10/10\n",
            " - 10s - loss: 0.0159 - acc: 0.9952 - val_loss: 0.0922 - val_acc: 0.9804\n"
          ],
          "name": "stdout"
        }
      ]
    },
    {
      "metadata": {
        "id": "i6zTqDqnWhfl",
        "colab_type": "code",
        "colab": {
          "base_uri": "https://localhost:8080/",
          "height": 51
        },
        "outputId": "3d7a117a-89fa-475d-8062-187723ff0c63"
      },
      "cell_type": "code",
      "source": [
        "print('Accuracy: {}% \\n Error: {}'.format(scores[1], 1 - scores[1]))"
      ],
      "execution_count": 8,
      "outputs": [
        {
          "output_type": "stream",
          "text": [
            "Accuracy: 0.9804% \n",
            " Error: 0.01959999999999995\n"
          ],
          "name": "stdout"
        }
      ]
    }
  ]
}